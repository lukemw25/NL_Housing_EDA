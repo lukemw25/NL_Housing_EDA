{
 "cells": [
  {
   "cell_type": "code",
   "execution_count": 62,
   "id": "a2650e4c",
   "metadata": {},
   "outputs": [],
   "source": [
    "# imports\n",
    "import pandas as pd\n",
    "import warnings\n",
    "import matplotlib.pyplot as plt\n",
    "import seaborn as sns\n",
    "import numpy as np\n",
    "import random\n",
    "import re\n",
    "import sys, os"
   ]
  },
  {
   "cell_type": "code",
   "execution_count": 63,
   "id": "9a0fdb87",
   "metadata": {},
   "outputs": [],
   "source": [
    "# pandas settings\n",
    "pd.set_option('display.max_rows', 100)\n",
    "pd.set_option('display.max_columns', 50)\n",
    "pd.set_option('display.width', 120)\n",
    "pd.set_option('display.max_colwidth', 100)\n",
    "pd.set_option('display.float_format', '{:,.2f}'.format)"
   ]
  },
  {
   "cell_type": "code",
   "execution_count": 68,
   "metadata": {},
   "outputs": [],
   "source": [
    "project_root = os.path.abspath(os.path.join(os.getcwd(), \"..\"))\n",
    "if project_root not in sys.path:\n",
    "    sys.path.append(project_root)\n"
   ]
  },
  {
   "cell_type": "code",
   "execution_count": 37,
   "id": "c5bc34fe",
   "metadata": {},
   "outputs": [
    {
     "name": "stdout",
     "output_type": "stream",
     "text": [
      "Shape: (5555, 16)\n"
     ]
    }
   ],
   "source": [
    "df = pd.read_csv(\"../data/raw/raw_data.csv\")\n",
    "warnings.filterwarnings(\"ignore\")\n",
    "print(\"Shape:\", df.shape)\n",
    "\n"
   ]
  },
  {
   "cell_type": "code",
   "execution_count": 24,
   "id": "3a81f787",
   "metadata": {},
   "outputs": [],
   "source": [
    "sns.set_style(\"whitegrid\")\n",
    "plt.rcParams[\"figure.figsize\"] = (10, 6)\n",
    "plt.rcParams[\"axes.titlesize\"] = 14\n",
    "plt.rcParams[\"axes.labelsize\"] = 12"
   ]
  },
  {
   "cell_type": "code",
   "execution_count": 27,
   "id": "cb69eccb",
   "metadata": {},
   "outputs": [],
   "source": [
    "SEED = 42\n",
    "np.random.seed(SEED)\n",
    "random.seed(SEED)\n",
    "os.environ[\"PYTHONHASHSEED\"] = str(SEED)"
   ]
  },
  {
   "cell_type": "code",
   "execution_count": 29,
   "id": "b2f5fb2c",
   "metadata": {},
   "outputs": [
    {
     "data": {
      "text/html": [
       "<style>.dataframe td { text-align: right; }</style>"
      ],
      "text/plain": [
       "<IPython.core.display.HTML object>"
      ]
     },
     "metadata": {},
     "output_type": "display_data"
    }
   ],
   "source": [
    "from IPython.display import display, HTML\n",
    "display(HTML(\"<style>.dataframe td { text-align: right; }</style>\"))\n"
   ]
  },
  {
   "cell_type": "code",
   "execution_count": 38,
   "id": "4794b995",
   "metadata": {},
   "outputs": [
    {
     "name": "stdout",
     "output_type": "stream",
     "text": [
      "<class 'pandas.core.frame.DataFrame'>\n",
      "RangeIndex: 5555 entries, 0 to 5554\n",
      "Data columns (total 16 columns):\n",
      " #   Column                                Non-Null Count  Dtype \n",
      "---  ------                                --------------  ----- \n",
      " 0   Address                               5555 non-null   object\n",
      " 1   City                                  5555 non-null   object\n",
      " 2   Price                                 5555 non-null   object\n",
      " 3   Lot size (m2)                         5555 non-null   object\n",
      " 4   Living space size (m2)                5555 non-null   object\n",
      " 5   Build year                            5471 non-null   object\n",
      " 6   Build type                            5555 non-null   object\n",
      " 7   House type                            5555 non-null   object\n",
      " 8   Roof                                  5555 non-null   object\n",
      " 9   Rooms                                 5555 non-null   object\n",
      " 10  Toilet                                5555 non-null   object\n",
      " 11  Floors                                5555 non-null   object\n",
      " 12  Energy label                          5555 non-null   object\n",
      " 13  Position                              5251 non-null   object\n",
      " 14  Garden                                5497 non-null   object\n",
      " 15  Estimated neighbourhood price per m2  5386 non-null   object\n",
      "dtypes: object(16)\n",
      "memory usage: 694.5+ KB\n"
     ]
    },
    {
     "data": {
      "text/plain": [
       "Position                                304\n",
       "Estimated neighbourhood price per m2    169\n",
       "Build year                               84\n",
       "Garden                                   58\n",
       "Lot size (m2)                             0\n",
       "Address                                   0\n",
       "Price                                     0\n",
       "City                                      0\n",
       "House type                                0\n",
       "Build type                                0\n",
       "Living space size (m2)                    0\n",
       "Roof                                      0\n",
       "Floors                                    0\n",
       "Toilet                                    0\n",
       "Rooms                                     0\n",
       "Energy label                              0\n",
       "dtype: int64"
      ]
     },
     "execution_count": 38,
     "metadata": {},
     "output_type": "execute_result"
    }
   ],
   "source": [
    "df.shape\n",
    "df.info()\n",
    "df.describe(include='all')\n",
    "df.isna().sum().sort_values(ascending=False)\n"
   ]
  },
  {
   "cell_type": "code",
   "execution_count": 39,
   "id": "aadb3e06",
   "metadata": {},
   "outputs": [
    {
     "data": {
      "text/html": [
       "<div>\n",
       "<style scoped>\n",
       "    .dataframe tbody tr th:only-of-type {\n",
       "        vertical-align: middle;\n",
       "    }\n",
       "\n",
       "    .dataframe tbody tr th {\n",
       "        vertical-align: top;\n",
       "    }\n",
       "\n",
       "    .dataframe thead th {\n",
       "        text-align: right;\n",
       "    }\n",
       "</style>\n",
       "<table border=\"1\" class=\"dataframe\">\n",
       "  <thead>\n",
       "    <tr style=\"text-align: right;\">\n",
       "      <th></th>\n",
       "      <th>Price</th>\n",
       "      <th>Lot size (m2)</th>\n",
       "      <th>Living space size (m2)</th>\n",
       "      <th>Rooms</th>\n",
       "      <th>Estimated neighbourhood price per m2</th>\n",
       "    </tr>\n",
       "  </thead>\n",
       "  <tbody>\n",
       "    <tr>\n",
       "      <th>0</th>\n",
       "      <td>€ 525.000</td>\n",
       "      <td>251 m²</td>\n",
       "      <td>135 m²</td>\n",
       "      <td>5 kamers (4 slaapkamers)</td>\n",
       "      <td>6.035</td>\n",
       "    </tr>\n",
       "    <tr>\n",
       "      <th>1</th>\n",
       "      <td>€ 425.000</td>\n",
       "      <td>181 m²</td>\n",
       "      <td>109 m²</td>\n",
       "      <td>4 kamers (3 slaapkamers)</td>\n",
       "      <td>1.435</td>\n",
       "    </tr>\n",
       "    <tr>\n",
       "      <th>2</th>\n",
       "      <td>€ 575.000</td>\n",
       "      <td>198 m²</td>\n",
       "      <td>138 m²</td>\n",
       "      <td>5 kamers (4 slaapkamers)</td>\n",
       "      <td>1.855</td>\n",
       "    </tr>\n",
       "    <tr>\n",
       "      <th>3</th>\n",
       "      <td>€ 259.500</td>\n",
       "      <td>231 m²</td>\n",
       "      <td>92 m²</td>\n",
       "      <td>5 kamers (3 slaapkamers)</td>\n",
       "      <td>2.190</td>\n",
       "    </tr>\n",
       "    <tr>\n",
       "      <th>4</th>\n",
       "      <td>€ 1.050.000</td>\n",
       "      <td>423 m²</td>\n",
       "      <td>210 m²</td>\n",
       "      <td>6 kamers (5 slaapkamers)</td>\n",
       "      <td>1.340</td>\n",
       "    </tr>\n",
       "    <tr>\n",
       "      <th>5</th>\n",
       "      <td>€ 445.000</td>\n",
       "      <td>127 m²</td>\n",
       "      <td>126 m²</td>\n",
       "      <td>5 kamers (4 slaapkamers)</td>\n",
       "      <td>1.745</td>\n",
       "    </tr>\n",
       "    <tr>\n",
       "      <th>6</th>\n",
       "      <td>€ 425.000</td>\n",
       "      <td>170 m²</td>\n",
       "      <td>87 m²</td>\n",
       "      <td>5 kamers (3 slaapkamers)</td>\n",
       "      <td>7.080</td>\n",
       "    </tr>\n",
       "    <tr>\n",
       "      <th>7</th>\n",
       "      <td>€ 825.000</td>\n",
       "      <td>413 m²</td>\n",
       "      <td>232 m²</td>\n",
       "      <td>7 kamers (6 slaapkamers)</td>\n",
       "      <td>5.090</td>\n",
       "    </tr>\n",
       "    <tr>\n",
       "      <th>8</th>\n",
       "      <td>€ 249.500</td>\n",
       "      <td>235 m²</td>\n",
       "      <td>124 m²</td>\n",
       "      <td>5 kamers (4 slaapkamers)</td>\n",
       "      <td>580</td>\n",
       "    </tr>\n",
       "    <tr>\n",
       "      <th>9</th>\n",
       "      <td>€ 550.000</td>\n",
       "      <td>137 m²</td>\n",
       "      <td>111 m²</td>\n",
       "      <td>4 kamers (3 slaapkamers)</td>\n",
       "      <td>2.040</td>\n",
       "    </tr>\n",
       "  </tbody>\n",
       "</table>\n",
       "</div>"
      ],
      "text/plain": [
       "         Price Lot size (m2) Living space size (m2)                     Rooms Estimated neighbourhood price per m2\n",
       "0    € 525.000        251 m²                 135 m²  5 kamers (4 slaapkamers)                                6.035\n",
       "1    € 425.000        181 m²                 109 m²  4 kamers (3 slaapkamers)                                1.435\n",
       "2    € 575.000        198 m²                 138 m²  5 kamers (4 slaapkamers)                                1.855\n",
       "3    € 259.500        231 m²                  92 m²  5 kamers (3 slaapkamers)                                2.190\n",
       "4  € 1.050.000        423 m²                 210 m²  6 kamers (5 slaapkamers)                                1.340\n",
       "5    € 445.000        127 m²                 126 m²  5 kamers (4 slaapkamers)                                1.745\n",
       "6    € 425.000        170 m²                  87 m²  5 kamers (3 slaapkamers)                                7.080\n",
       "7    € 825.000        413 m²                 232 m²  7 kamers (6 slaapkamers)                                5.090\n",
       "8    € 249.500        235 m²                 124 m²  5 kamers (4 slaapkamers)                                  580\n",
       "9    € 550.000        137 m²                 111 m²  4 kamers (3 slaapkamers)                                2.040"
      ]
     },
     "execution_count": 39,
     "metadata": {},
     "output_type": "execute_result"
    }
   ],
   "source": [
    "df[['Price', 'Lot size (m2)', 'Living space size (m2)', 'Rooms', 'Estimated neighbourhood price per m2']].head(10)\n"
   ]
  },
  {
   "cell_type": "code",
   "execution_count": 41,
   "metadata": {},
   "outputs": [
    {
     "data": {
      "text/plain": [
       "Address                                0.00\n",
       "City                                   0.00\n",
       "Price                                  0.00\n",
       "Lot size (m2)                          0.00\n",
       "Living space size (m2)                 0.00\n",
       "Build year                             1.51\n",
       "Build type                             0.00\n",
       "House type                             0.00\n",
       "Roof                                   0.00\n",
       "Rooms                                  0.00\n",
       "Toilet                                 0.00\n",
       "Floors                                 0.00\n",
       "Energy label                           0.00\n",
       "Position                               5.47\n",
       "Garden                                 1.04\n",
       "Estimated neighbourhood price per m2   3.04\n",
       "dtype: float64"
      ]
     },
     "execution_count": 41,
     "metadata": {},
     "output_type": "execute_result"
    }
   ],
   "source": [
    "# Calculate the percentage of missing values for each column\n",
    "# This reveals data quality issues quantitatively rather than visually\n",
    "# Columns exceeding ~15–20% missing usually need special handling (drop, impute, or mark as 'Unknown')\n",
    "(df.isna().sum() / len(df) * 100).round(2)"
   ]
  },
  {
   "cell_type": "code",
   "execution_count": 42,
   "id": "314cf7f7",
   "metadata": {},
   "outputs": [
    {
     "name": "stdout",
     "output_type": "stream",
     "text": [
      "\n",
      "--- Price ---\n",
      "['€ 525.000' '€ 425.000' '€ 575.000' '€ 259.500' '€ 1.050.000' '€ 445.000'\n",
      " '€ 825.000' '€ 249.500' '€ 550.000' '€ 859.000']\n",
      "\n",
      "--- Lot size (m2) ---\n",
      "['251 m²' '181 m²' '198 m²' '231 m²' '423 m²' '127 m²' '170 m²' '413 m²'\n",
      " '235 m²' '137 m²']\n",
      "\n",
      "--- Living space size (m2) ---\n",
      "['135 m²' '109 m²' '138 m²' '92 m²' '210 m²' '126 m²' '87 m²' '232 m²'\n",
      " '124 m²' '111 m²']\n",
      "\n",
      "--- Rooms ---\n",
      "['5 kamers (4 slaapkamers)' '4 kamers (3 slaapkamers)'\n",
      " '5 kamers (3 slaapkamers)' '6 kamers (5 slaapkamers)'\n",
      " '7 kamers (6 slaapkamers)' '9 kamers (7 slaapkamers)'\n",
      " '3 kamers (2 slaapkamers)' '4 kamers (2 slaapkamers)'\n",
      " '9 kamers (4 slaapkamers)' '6 kamers (4 slaapkamers)']\n"
     ]
    }
   ],
   "source": [
    "# Inspect unique value samples in each key column to detect formatting issues or inconsistent entries\n",
    "# Example: numeric columns stored as text (\"€ 350.000\" vs \"350000\")\n",
    "# This helps design robust cleaning rules before type conversion\n",
    "for col in ['Price', 'Lot size (m2)', 'Living space size (m2)', 'Rooms']:\n",
    "    print(f\"\\n--- {col} ---\")\n",
    "    print(df[col].unique()[:10])"
   ]
  },
  {
   "cell_type": "code",
   "execution_count": 45,
   "id": "241d71e8",
   "metadata": {},
   "outputs": [],
   "source": [
    "# Define a helper to clean numeric-like text fields\n",
    "# Removes non-numeric symbols and converts to float for later numerical analysis\n",
    "\n",
    "def to_numeric(value):\n",
    "    if pd.isna(value):\n",
    "        return None\n",
    "    # Strip euro signs, commas, spaces, and non-digit characters\n",
    "    cleaned = re.sub(r\"[^\\d.]\", \"\", str(value))\n",
    "    try:\n",
    "        return float(cleaned)\n",
    "    except ValueError:\n",
    "        return None\n"
   ]
  },
  {
   "cell_type": "code",
   "execution_count": 46,
   "metadata": {},
   "outputs": [],
   "source": [
    "# Apply numeric conversion to all relevant columns\n",
    "numeric_cols = ['Price', 'Lot size (m2)', 'Living space size (m2)', 'Rooms', 'Estimated neighbourhood price per m2']\n",
    "for col in numeric_cols:\n",
    "    df[col] = df[col].apply(to_numeric)\n"
   ]
  },
  {
   "cell_type": "code",
   "execution_count": 48,
   "id": "444cf8d4",
   "metadata": {},
   "outputs": [
    {
     "data": {
      "text/html": [
       "<div>\n",
       "<style scoped>\n",
       "    .dataframe tbody tr th:only-of-type {\n",
       "        vertical-align: middle;\n",
       "    }\n",
       "\n",
       "    .dataframe tbody tr th {\n",
       "        vertical-align: top;\n",
       "    }\n",
       "\n",
       "    .dataframe thead th {\n",
       "        text-align: right;\n",
       "    }\n",
       "</style>\n",
       "<table border=\"1\" class=\"dataframe\">\n",
       "  <thead>\n",
       "    <tr style=\"text-align: right;\">\n",
       "      <th></th>\n",
       "      <th>Price</th>\n",
       "      <th>Lot size (m2)</th>\n",
       "      <th>Living space size (m2)</th>\n",
       "      <th>Rooms</th>\n",
       "      <th>Estimated neighbourhood price per m2</th>\n",
       "    </tr>\n",
       "  </thead>\n",
       "  <tbody>\n",
       "    <tr>\n",
       "      <th>count</th>\n",
       "      <td>5,168.00</td>\n",
       "      <td>5,555.00</td>\n",
       "      <td>5,555.00</td>\n",
       "      <td>5,555.00</td>\n",
       "      <td>5,386.00</td>\n",
       "    </tr>\n",
       "    <tr>\n",
       "      <th>mean</th>\n",
       "      <td>487.98</td>\n",
       "      <td>256.15</td>\n",
       "      <td>146.43</td>\n",
       "      <td>58.92</td>\n",
       "      <td>102.55</td>\n",
       "    </tr>\n",
       "    <tr>\n",
       "      <th>std</th>\n",
       "      <td>178.75</td>\n",
       "      <td>201.60</td>\n",
       "      <td>62.29</td>\n",
       "      <td>43.18</td>\n",
       "      <td>244.64</td>\n",
       "    </tr>\n",
       "    <tr>\n",
       "      <th>min</th>\n",
       "      <td>149.00</td>\n",
       "      <td>1.00</td>\n",
       "      <td>53.00</td>\n",
       "      <td>2.00</td>\n",
       "      <td>1.00</td>\n",
       "    </tr>\n",
       "    <tr>\n",
       "      <th>25%</th>\n",
       "      <td>350.00</td>\n",
       "      <td>133.00</td>\n",
       "      <td>110.00</td>\n",
       "      <td>52.00</td>\n",
       "      <td>2.04</td>\n",
       "    </tr>\n",
       "    <tr>\n",
       "      <th>50%</th>\n",
       "      <td>450.00</td>\n",
       "      <td>197.00</td>\n",
       "      <td>130.00</td>\n",
       "      <td>54.00</td>\n",
       "      <td>3.45</td>\n",
       "    </tr>\n",
       "    <tr>\n",
       "      <th>75%</th>\n",
       "      <td>595.00</td>\n",
       "      <td>322.00</td>\n",
       "      <td>162.00</td>\n",
       "      <td>65.00</td>\n",
       "      <td>6.81</td>\n",
       "    </tr>\n",
       "    <tr>\n",
       "      <th>max</th>\n",
       "      <td>999.00</td>\n",
       "      <td>998.00</td>\n",
       "      <td>844.00</td>\n",
       "      <td>1,816.00</td>\n",
       "      <td>995.00</td>\n",
       "    </tr>\n",
       "  </tbody>\n",
       "</table>\n",
       "</div>"
      ],
      "text/plain": [
       "         Price  Lot size (m2)  Living space size (m2)    Rooms  Estimated neighbourhood price per m2\n",
       "count 5,168.00       5,555.00                5,555.00 5,555.00                              5,386.00\n",
       "mean    487.98         256.15                  146.43    58.92                                102.55\n",
       "std     178.75         201.60                   62.29    43.18                                244.64\n",
       "min     149.00           1.00                   53.00     2.00                                  1.00\n",
       "25%     350.00         133.00                  110.00    52.00                                  2.04\n",
       "50%     450.00         197.00                  130.00    54.00                                  3.45\n",
       "75%     595.00         322.00                  162.00    65.00                                  6.81\n",
       "max     999.00         998.00                  844.00 1,816.00                                995.00"
      ]
     },
     "execution_count": 48,
     "metadata": {},
     "output_type": "execute_result"
    }
   ],
   "source": [
    "# Summarize numeric distributions to verify plausibility (outliers, range errors, scale consistency)\n",
    "# This ensures no corrupt values were introduced during cleaning\n",
    "df.describe()\n"
   ]
  },
  {
   "cell_type": "code",
   "execution_count": 49,
   "id": "5dc1f115",
   "metadata": {},
   "outputs": [
    {
     "data": {
      "text/plain": [
       "Address                                0.00\n",
       "City                                   0.00\n",
       "Price                                  6.97\n",
       "Lot size (m2)                          0.00\n",
       "Living space size (m2)                 0.00\n",
       "Build year                             1.51\n",
       "Build type                             0.00\n",
       "House type                             0.00\n",
       "Roof                                   0.00\n",
       "Rooms                                  0.00\n",
       "Toilet                                 0.00\n",
       "Floors                                 0.00\n",
       "Energy label                           0.00\n",
       "Position                               5.47\n",
       "Garden                                 1.04\n",
       "Estimated neighbourhood price per m2   3.04\n",
       "dtype: float64"
      ]
     },
     "execution_count": 49,
     "metadata": {},
     "output_type": "execute_result"
    }
   ],
   "source": [
    "(df.isna().sum() / len(df) * 100).round(2)"
   ]
  },
  {
   "cell_type": "code",
   "execution_count": 51,
   "metadata": {},
   "outputs": [],
   "source": [
    "df.loc[df['Rooms'] > 20, 'Rooms'] = None\n",
    "df.loc[df['Estimated neighbourhood price per m2'] > 50, 'Estimated neighbourhood price per m2'] /= 100  # fix decimal scaling\n"
   ]
  },
  {
   "cell_type": "code",
   "execution_count": 70,
   "id": "28d44680",
   "metadata": {},
   "outputs": [
    {
     "name": "stdout",
     "output_type": "stream",
     "text": [
      "c:\\Users\\Kille\\Documents\\nl-housing\\notebooks\n"
     ]
    }
   ],
   "source": [
    "import os\n",
    "print(os.getcwd())\n"
   ]
  },
  {
   "cell_type": "code",
   "execution_count": null,
   "id": "fd694cda",
   "metadata": {},
   "outputs": [
    {
     "ename": "ModuleNotFoundError",
     "evalue": "No module named 'src.data.transform.validate_schema'",
     "output_type": "error",
     "traceback": [
      "\u001b[31m---------------------------------------------------------------------------\u001b[39m",
      "\u001b[31mModuleNotFoundError\u001b[39m                       Traceback (most recent call last)",
      "\u001b[36mCell\u001b[39m\u001b[36m \u001b[39m\u001b[32mIn[78]\u001b[39m\u001b[32m, line 1\u001b[39m\n\u001b[32m----> \u001b[39m\u001b[32m1\u001b[39m \u001b[38;5;28;01mfrom\u001b[39;00m\u001b[38;5;250m \u001b[39m\u001b[34;01msrc\u001b[39;00m\u001b[34;01m.\u001b[39;00m\u001b[34;01mdata\u001b[39;00m\u001b[34;01m.\u001b[39;00m\u001b[34;01mtransform\u001b[39;00m\u001b[34;01m.\u001b[39;00m\u001b[34;01mvalidate_schema\u001b[39;00m\u001b[38;5;250m \u001b[39m\u001b[38;5;28;01mimport\u001b[39;00m validate_schema\n",
      "\u001b[31mModuleNotFoundError\u001b[39m: No module named 'src.data.transform.validate_schema'"
     ]
    }
   ],
   "source": [
    "\n"
   ]
  }
 ],
 "metadata": {
  "kernelspec": {
   "display_name": "Python 3",
   "language": "python",
   "name": "python3"
  },
  "language_info": {
   "codemirror_mode": {
    "name": "ipython",
    "version": 3
   },
   "file_extension": ".py",
   "mimetype": "text/x-python",
   "name": "python",
   "nbconvert_exporter": "python",
   "pygments_lexer": "ipython3",
   "version": "3.11.14"
  }
 },
 "nbformat": 4,
 "nbformat_minor": 5
}
